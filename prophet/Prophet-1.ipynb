{
 "cells": [
  {
   "cell_type": "code",
   "execution_count": 1,
   "id": "8935d59e",
   "metadata": {},
   "outputs": [
    {
     "ename": "ModuleNotFoundError",
     "evalue": "No module named 'prophet'",
     "output_type": "error",
     "traceback": [
      "\u001b[0;31m---------------------------------------------------------------------------\u001b[0m",
      "\u001b[0;31mModuleNotFoundError\u001b[0m                       Traceback (most recent call last)",
      "\u001b[0;32m/var/folders/1d/w72pys2d2q58j17kf_kg6h300000gr/T/ipykernel_4027/3815081932.py\u001b[0m in \u001b[0;36m<module>\u001b[0;34m\u001b[0m\n\u001b[1;32m      1\u001b[0m \u001b[0;32mimport\u001b[0m \u001b[0mpandas\u001b[0m \u001b[0;32mas\u001b[0m \u001b[0mpd\u001b[0m\u001b[0;34m\u001b[0m\u001b[0;34m\u001b[0m\u001b[0m\n\u001b[0;32m----> 2\u001b[0;31m \u001b[0;32mfrom\u001b[0m \u001b[0mprophet\u001b[0m \u001b[0;32mimport\u001b[0m \u001b[0mprophet\u001b[0m\u001b[0;34m\u001b[0m\u001b[0;34m\u001b[0m\u001b[0m\n\u001b[0m",
      "\u001b[0;31mModuleNotFoundError\u001b[0m: No module named 'prophet'"
     ]
    }
   ],
   "source": [
    "import pandas as pd\n",
    "from prophet import prophet"
   ]
  },
  {
   "cell_type": "code",
   "execution_count": null,
   "id": "656bf649",
   "metadata": {},
   "outputs": [
    {
     "name": "stdout",
     "output_type": "stream",
     "text": [
      "Retrieving notices: ...working... done\n",
      "Collecting package metadata (current_repodata.json): done\n",
      "Solving environment: \\ \n",
      "The environment is inconsistent, please check the package plan carefully\n",
      "The following packages are causing the inconsistency:\n",
      "\n",
      "  - defaults/osx-64::holoviews==1.15.0=py39hecd8cb5_0\n",
      "  - defaults/noarch::babel==2.9.1=pyhd3eb1b0_0\n",
      "  - defaults/noarch::tifffile==2021.7.2=pyhd3eb1b0_2\n",
      "  - defaults/osx-64::imageio==2.19.3=py39hecd8cb5_0\n",
      "  - defaults/osx-64::scikit-learn==1.0.2=py39hae1ba45_1\n",
      "  - defaults/osx-64::bottleneck==1.3.5=py39h67323c0_0\n",
      "  - defaults/osx-64::scikit-image==0.19.2=py39hae1ba45_0\n",
      "  - defaults/osx-64::anaconda-project==0.11.1=py39hecd8cb5_0\n",
      "  - defaults/osx-64::datashape==0.5.4=py39hecd8cb5_1\n",
      "  - defaults/osx-64::mkl_random==1.2.2=py39hb2f4e1b_0\n",
      "  - defaults/osx-64::numexpr==2.8.3=py39h2e5f0a9_0\n",
      "  - defaults/osx-64::imagecodecs==2021.8.26=py39h0f85e6e_1\n",
      "  - defaults/osx-64::h5py==3.7.0=py39h4a1dd59_0\n",
      "  - defaults/osx-64::pywavelets==1.3.0=py39hca72f7f_0\n",
      "  - defaults/osx-64::scikit-learn-intelex==2021.6.0=py39hecd8cb5_0\n",
      "  - defaults/osx-64::numpy==1.21.5=py39h2e5f0a9_3\n",
      "  - defaults/osx-64::jupyterlab==3.4.4=py39hecd8cb5_0\n",
      "  - defaults/osx-64::datashader==0.14.1=py39hecd8cb5_0\n",
      "  - defaults/osx-64::anaconda==2022.10=py39_0\n",
      "  - defaults/osx-64::matplotlib==3.5.2=py39hecd8cb5_0\n",
      "  - defaults/osx-64::hvplot==0.8.0=py39hecd8cb5_0\n",
      "  - defaults/osx-64::bkcharts==0.2=py39hecd8cb5_1\n",
      "  - defaults/osx-64::patsy==0.5.2=py39hecd8cb5_1\n",
      "  - defaults/osx-64::conda-build==3.22.0=py39hecd8cb5_0\n",
      "  - defaults/osx-64::anaconda-navigator==2.4.0=py39hecd8cb5_0\n",
      "  - defaults/osx-64::sphinx==5.0.2=py39hecd8cb5_0\n",
      "  - defaults/osx-64::_ipyw_jlab_nb_ext_conf==0.1.0=py39hecd8cb5_1\n",
      "  - defaults/osx-64::matplotlib-base==3.5.2=py39hfb0c5b7_0\n",
      "  - defaults/osx-64::dask==2022.7.0=py39hecd8cb5_0\n",
      "  - defaults/osx-64::anaconda-client==1.11.0=py39hecd8cb5_0\n",
      "  - defaults/noarch::jupyterlab_server==2.10.3=pyhd3eb1b0_1\n",
      "  - defaults/osx-64::gensim==4.1.2=py39he9d5cce_0\n",
      "  - defaults/osx-64::numpydoc==1.4.0=py39hecd8cb5_0\n",
      "  - defaults/osx-64::numba==0.55.1=py39hae1ba45_0\n",
      "  - defaults/osx-64::pytables==3.6.1=py39h648f197_1\n",
      "  - defaults/noarch::intake==0.6.5=pyhd3eb1b0_0\n",
      "  - defaults/osx-64::pandas==1.4.4=py39he9d5cce_0\n",
      "  - defaults/osx-64::pyerfa==2.0.0=py39h9ed2024_0\n",
      "  - defaults/osx-64::jupyter==1.0.0=py39hecd8cb5_8\n",
      "  - defaults/osx-64::bokeh==2.4.3=py39hecd8cb5_0\n",
      "  - defaults/osx-64::mkl_fft==1.3.1=py39h4ab4a9b_0\n",
      "  - defaults/osx-64::conda-repo-cli==1.0.20=py39hecd8cb5_0\n",
      "  - defaults/osx-64::astropy==5.1=py39h67323c0_0\n",
      "  - defaults/noarch::seaborn==0.11.2=pyhd3eb1b0_0\n",
      "  - defaults/osx-64::scipy==1.9.1=py39h3d31255_0\n",
      "  - defaults/osx-64::spyder==5.3.3=py39hecd8cb5_0\n",
      "  - defaults/osx-64::panel==0.13.1=py39hecd8cb5_0\n",
      "  - defaults/osx-64::daal4py==2021.6.0=py39h01d92e1_1\n",
      "  - defaults/noarch::xarray==0.20.1=pyhd3eb1b0| \n",
      "\\ "
     ]
    }
   ],
   "source": [
    "conda install -c conda-forge prophet"
   ]
  },
  {
   "cell_type": "code",
   "execution_count": null,
   "id": "ef5d80a6",
   "metadata": {},
   "outputs": [],
   "source": []
  }
 ],
 "metadata": {
  "kernelspec": {
   "display_name": "Python 3 (ipykernel)",
   "language": "python",
   "name": "python3"
  },
  "language_info": {
   "codemirror_mode": {
    "name": "ipython",
    "version": 3
   },
   "file_extension": ".py",
   "mimetype": "text/x-python",
   "name": "python",
   "nbconvert_exporter": "python",
   "pygments_lexer": "ipython3",
   "version": "3.9.13"
  }
 },
 "nbformat": 4,
 "nbformat_minor": 5
}
