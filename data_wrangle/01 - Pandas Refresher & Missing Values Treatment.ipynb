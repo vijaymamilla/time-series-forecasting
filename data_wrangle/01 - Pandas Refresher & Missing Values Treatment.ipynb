{
 "cells": [
  {
   "cell_type": "code",
   "execution_count": 20,
   "id": "7869b3e1-8857-4149-b2a1-cab44b244661",
   "metadata": {},
   "outputs": [],
   "source": [
    "import numpy as np\n",
    "import matplotlib.pyplot as plt\n",
    "import pandas as pd"
   ]
  },
  {
   "cell_type": "code",
   "execution_count": 21,
   "id": "90a2e70e-8c4d-4147-af01-944edc8acfe0",
   "metadata": {},
   "outputs": [
    {
     "name": "stderr",
     "output_type": "stream",
     "text": [
      "/Users/hadoop/opt/anaconda3/lib/python3.9/site-packages/openpyxl/worksheet/_read_only.py:79: UserWarning:\n",
      "\n",
      "Unknown extension is not supported and will be removed\n",
      "\n"
     ]
    },
    {
     "data": {
      "text/html": [
       "<div>\n",
       "<style scoped>\n",
       "    .dataframe tbody tr th:only-of-type {\n",
       "        vertical-align: middle;\n",
       "    }\n",
       "\n",
       "    .dataframe tbody tr th {\n",
       "        vertical-align: top;\n",
       "    }\n",
       "\n",
       "    .dataframe thead th {\n",
       "        text-align: right;\n",
       "    }\n",
       "</style>\n",
       "<table border=\"1\" class=\"dataframe\">\n",
       "  <thead>\n",
       "    <tr style=\"text-align: right;\">\n",
       "      <th></th>\n",
       "      <th>date</th>\n",
       "      <th>ISE</th>\n",
       "      <th>ISE.1</th>\n",
       "      <th>SP</th>\n",
       "      <th>DAX</th>\n",
       "      <th>FTSE</th>\n",
       "      <th>NIKKEI</th>\n",
       "      <th>BOVESPA</th>\n",
       "      <th>EU</th>\n",
       "      <th>EM</th>\n",
       "    </tr>\n",
       "  </thead>\n",
       "  <tbody>\n",
       "    <tr>\n",
       "      <th>0</th>\n",
       "      <td>2009-01-05</td>\n",
       "      <td>0.035754</td>\n",
       "      <td>0.038376</td>\n",
       "      <td>-0.004679</td>\n",
       "      <td>0.002193</td>\n",
       "      <td>0.003894</td>\n",
       "      <td>0.000000</td>\n",
       "      <td>0.031190</td>\n",
       "      <td>0.012698</td>\n",
       "      <td>0.028524</td>\n",
       "    </tr>\n",
       "    <tr>\n",
       "      <th>1</th>\n",
       "      <td>2009-01-06</td>\n",
       "      <td>0.025426</td>\n",
       "      <td>0.031813</td>\n",
       "      <td>0.007787</td>\n",
       "      <td>0.008455</td>\n",
       "      <td>0.012866</td>\n",
       "      <td>0.004162</td>\n",
       "      <td>0.018920</td>\n",
       "      <td>0.011341</td>\n",
       "      <td>0.008773</td>\n",
       "    </tr>\n",
       "    <tr>\n",
       "      <th>2</th>\n",
       "      <td>2009-01-07</td>\n",
       "      <td>-0.028862</td>\n",
       "      <td>-0.026353</td>\n",
       "      <td>-0.030469</td>\n",
       "      <td>-0.017833</td>\n",
       "      <td>-0.028735</td>\n",
       "      <td>0.017293</td>\n",
       "      <td>-0.035899</td>\n",
       "      <td>-0.017073</td>\n",
       "      <td>-0.020015</td>\n",
       "    </tr>\n",
       "    <tr>\n",
       "      <th>3</th>\n",
       "      <td>2009-01-08</td>\n",
       "      <td>-0.062208</td>\n",
       "      <td>-0.084716</td>\n",
       "      <td>0.003391</td>\n",
       "      <td>-0.011726</td>\n",
       "      <td>-0.000466</td>\n",
       "      <td>-0.040061</td>\n",
       "      <td>0.028283</td>\n",
       "      <td>-0.005561</td>\n",
       "      <td>-0.019424</td>\n",
       "    </tr>\n",
       "    <tr>\n",
       "      <th>4</th>\n",
       "      <td>2009-01-09</td>\n",
       "      <td>0.009860</td>\n",
       "      <td>0.009658</td>\n",
       "      <td>-0.021533</td>\n",
       "      <td>-0.019873</td>\n",
       "      <td>-0.012710</td>\n",
       "      <td>-0.004474</td>\n",
       "      <td>-0.009764</td>\n",
       "      <td>-0.010989</td>\n",
       "      <td>-0.007802</td>\n",
       "    </tr>\n",
       "  </tbody>\n",
       "</table>\n",
       "</div>"
      ],
      "text/plain": [
       "        date       ISE     ISE.1        SP       DAX      FTSE    NIKKEI  \\\n",
       "0 2009-01-05  0.035754  0.038376 -0.004679  0.002193  0.003894  0.000000   \n",
       "1 2009-01-06  0.025426  0.031813  0.007787  0.008455  0.012866  0.004162   \n",
       "2 2009-01-07 -0.028862 -0.026353 -0.030469 -0.017833 -0.028735  0.017293   \n",
       "3 2009-01-08 -0.062208 -0.084716  0.003391 -0.011726 -0.000466 -0.040061   \n",
       "4 2009-01-09  0.009860  0.009658 -0.021533 -0.019873 -0.012710 -0.004474   \n",
       "\n",
       "    BOVESPA        EU        EM  \n",
       "0  0.031190  0.012698  0.028524  \n",
       "1  0.018920  0.011341  0.008773  \n",
       "2 -0.035899 -0.017073 -0.020015  \n",
       "3  0.028283 -0.005561 -0.019424  \n",
       "4 -0.009764 -0.010989 -0.007802  "
      ]
     },
     "execution_count": 21,
     "metadata": {},
     "output_type": "execute_result"
    }
   ],
   "source": [
    "df = pd.read_excel(\"https://archive.ics.uci.edu/ml/machine-learning-databases/00247/data_akbilgic.xlsx\", skiprows=1)\n",
    "\n",
    "df.head()"
   ]
  },
  {
   "cell_type": "code",
   "execution_count": 22,
   "id": "08609ce6-0261-4930-ac69-98693566f105",
   "metadata": {},
   "outputs": [
    {
     "data": {
      "text/plain": [
       "'13, April 1987'"
      ]
     },
     "execution_count": 22,
     "metadata": {},
     "output_type": "execute_result"
    }
   ],
   "source": [
    "pd.to_datetime(\"13-4-1987\").strftime(\"%d, %B %Y\")"
   ]
  },
  {
   "cell_type": "code",
   "execution_count": 23,
   "id": "326306b6-054e-47c1-b712-968feea76705",
   "metadata": {},
   "outputs": [],
   "source": [
    "# NOw anyone can make that mistake because we are not telling the computer whether monthe comes first or day comes first and pandas assumes month coming first. Let's rectify that"
   ]
  },
  {
   "cell_type": "code",
   "execution_count": 24,
   "id": "a5a6dd2d-db79-4e22-80b1-3450c069d7f4",
   "metadata": {},
   "outputs": [
    {
     "data": {
      "text/plain": [
       "'04, January 1987'"
      ]
     },
     "execution_count": 24,
     "metadata": {},
     "output_type": "execute_result"
    }
   ],
   "source": [
    "pd.to_datetime(\"4-1-1987\",dayfirst=True).strftime(\"%d, %B %Y\")"
   ]
  },
  {
   "cell_type": "code",
   "execution_count": 25,
   "id": "d8c8fb44-691a-4ea6-9469-bfa86f9de400",
   "metadata": {},
   "outputs": [
    {
     "data": {
      "text/plain": [
       "dtype('<M8[ns]')"
      ]
     },
     "execution_count": 25,
     "metadata": {},
     "output_type": "execute_result"
    }
   ],
   "source": [
    "df['date'] = pd.to_datetime(df['date'],yearfirst=True)\n",
    "df['date'].dtype"
   ]
  },
  {
   "cell_type": "code",
   "execution_count": 26,
   "id": "b819ec85-3232-4dc5-8230-93d1828bde18",
   "metadata": {},
   "outputs": [
    {
     "data": {
      "text/plain": [
       "(Timestamp('2009-01-05 00:00:00'), Timestamp('2011-02-22 00:00:00'))"
      ]
     },
     "execution_count": 26,
     "metadata": {},
     "output_type": "execute_result"
    }
   ],
   "source": [
    "df.date.min(),df.date.max()"
   ]
  },
  {
   "cell_type": "code",
   "execution_count": 27,
   "id": "7381f03e-cc8e-4532-8d2a-3225bdd28802",
   "metadata": {},
   "outputs": [],
   "source": [
    "df.set_index(\"date\",inplace=True)"
   ]
  },
  {
   "cell_type": "code",
   "execution_count": 28,
   "id": "f845773e-0c2a-47b5-a581-72f2a7b030da",
   "metadata": {},
   "outputs": [
    {
     "data": {
      "text/html": [
       "<div>\n",
       "<style scoped>\n",
       "    .dataframe tbody tr th:only-of-type {\n",
       "        vertical-align: middle;\n",
       "    }\n",
       "\n",
       "    .dataframe tbody tr th {\n",
       "        vertical-align: top;\n",
       "    }\n",
       "\n",
       "    .dataframe thead th {\n",
       "        text-align: right;\n",
       "    }\n",
       "</style>\n",
       "<table border=\"1\" class=\"dataframe\">\n",
       "  <thead>\n",
       "    <tr style=\"text-align: right;\">\n",
       "      <th></th>\n",
       "      <th>ISE</th>\n",
       "      <th>ISE.1</th>\n",
       "      <th>SP</th>\n",
       "      <th>DAX</th>\n",
       "      <th>FTSE</th>\n",
       "      <th>NIKKEI</th>\n",
       "      <th>BOVESPA</th>\n",
       "      <th>EU</th>\n",
       "      <th>EM</th>\n",
       "    </tr>\n",
       "    <tr>\n",
       "      <th>date</th>\n",
       "      <th></th>\n",
       "      <th></th>\n",
       "      <th></th>\n",
       "      <th></th>\n",
       "      <th></th>\n",
       "      <th></th>\n",
       "      <th></th>\n",
       "      <th></th>\n",
       "      <th></th>\n",
       "    </tr>\n",
       "  </thead>\n",
       "  <tbody>\n",
       "    <tr>\n",
       "      <th>2010-01-04</th>\n",
       "      <td>0.010229</td>\n",
       "      <td>0.014478</td>\n",
       "      <td>0.015916</td>\n",
       "      <td>0.000000</td>\n",
       "      <td>0.016018</td>\n",
       "      <td>0.000000</td>\n",
       "      <td>0.000000</td>\n",
       "      <td>0.016778</td>\n",
       "      <td>0.008399</td>\n",
       "    </tr>\n",
       "    <tr>\n",
       "      <th>2010-01-05</th>\n",
       "      <td>0.013898</td>\n",
       "      <td>0.024019</td>\n",
       "      <td>0.003111</td>\n",
       "      <td>-0.002722</td>\n",
       "      <td>0.004028</td>\n",
       "      <td>0.002535</td>\n",
       "      <td>0.002780</td>\n",
       "      <td>0.001316</td>\n",
       "      <td>0.008067</td>\n",
       "    </tr>\n",
       "    <tr>\n",
       "      <th>2010-01-06</th>\n",
       "      <td>0.007957</td>\n",
       "      <td>0.005706</td>\n",
       "      <td>0.000545</td>\n",
       "      <td>0.000409</td>\n",
       "      <td>0.001357</td>\n",
       "      <td>0.004635</td>\n",
       "      <td>0.006938</td>\n",
       "      <td>0.000586</td>\n",
       "      <td>0.005330</td>\n",
       "    </tr>\n",
       "    <tr>\n",
       "      <th>2010-01-07</th>\n",
       "      <td>0.007772</td>\n",
       "      <td>0.007498</td>\n",
       "      <td>0.003993</td>\n",
       "      <td>-0.002484</td>\n",
       "      <td>-0.000597</td>\n",
       "      <td>-0.004650</td>\n",
       "      <td>-0.003938</td>\n",
       "      <td>-0.000360</td>\n",
       "      <td>-0.006375</td>\n",
       "    </tr>\n",
       "    <tr>\n",
       "      <th>2010-01-08</th>\n",
       "      <td>-0.003189</td>\n",
       "      <td>0.000835</td>\n",
       "      <td>0.002878</td>\n",
       "      <td>0.003027</td>\n",
       "      <td>0.001356</td>\n",
       "      <td>0.010862</td>\n",
       "      <td>-0.002672</td>\n",
       "      <td>0.003554</td>\n",
       "      <td>0.001229</td>\n",
       "    </tr>\n",
       "    <tr>\n",
       "      <th>...</th>\n",
       "      <td>...</td>\n",
       "      <td>...</td>\n",
       "      <td>...</td>\n",
       "      <td>...</td>\n",
       "      <td>...</td>\n",
       "      <td>...</td>\n",
       "      <td>...</td>\n",
       "      <td>...</td>\n",
       "      <td>...</td>\n",
       "    </tr>\n",
       "    <tr>\n",
       "      <th>2011-02-16</th>\n",
       "      <td>0.008599</td>\n",
       "      <td>0.013400</td>\n",
       "      <td>0.006238</td>\n",
       "      <td>0.001925</td>\n",
       "      <td>0.007952</td>\n",
       "      <td>0.005717</td>\n",
       "      <td>0.018371</td>\n",
       "      <td>0.006975</td>\n",
       "      <td>0.003039</td>\n",
       "    </tr>\n",
       "    <tr>\n",
       "      <th>2011-02-17</th>\n",
       "      <td>0.009310</td>\n",
       "      <td>0.015977</td>\n",
       "      <td>0.003071</td>\n",
       "      <td>-0.001186</td>\n",
       "      <td>0.000345</td>\n",
       "      <td>0.002620</td>\n",
       "      <td>0.001686</td>\n",
       "      <td>-0.000581</td>\n",
       "      <td>0.001039</td>\n",
       "    </tr>\n",
       "    <tr>\n",
       "      <th>2011-02-18</th>\n",
       "      <td>0.000191</td>\n",
       "      <td>-0.001653</td>\n",
       "      <td>0.001923</td>\n",
       "      <td>0.002872</td>\n",
       "      <td>-0.000723</td>\n",
       "      <td>0.000568</td>\n",
       "      <td>0.005628</td>\n",
       "      <td>0.000572</td>\n",
       "      <td>0.006938</td>\n",
       "    </tr>\n",
       "    <tr>\n",
       "      <th>2011-02-21</th>\n",
       "      <td>-0.013069</td>\n",
       "      <td>-0.013706</td>\n",
       "      <td>-0.020742</td>\n",
       "      <td>-0.014239</td>\n",
       "      <td>-0.011275</td>\n",
       "      <td>0.001358</td>\n",
       "      <td>-0.011942</td>\n",
       "      <td>-0.012615</td>\n",
       "      <td>-0.000958</td>\n",
       "    </tr>\n",
       "    <tr>\n",
       "      <th>2011-02-22</th>\n",
       "      <td>-0.007246</td>\n",
       "      <td>-0.019442</td>\n",
       "      <td>0.000000</td>\n",
       "      <td>-0.000473</td>\n",
       "      <td>-0.002997</td>\n",
       "      <td>-0.017920</td>\n",
       "      <td>-0.012252</td>\n",
       "      <td>-0.005465</td>\n",
       "      <td>-0.014297</td>\n",
       "    </tr>\n",
       "  </tbody>\n",
       "</table>\n",
       "<p>286 rows × 9 columns</p>\n",
       "</div>"
      ],
      "text/plain": [
       "                 ISE     ISE.1        SP       DAX      FTSE    NIKKEI  \\\n",
       "date                                                                     \n",
       "2010-01-04  0.010229  0.014478  0.015916  0.000000  0.016018  0.000000   \n",
       "2010-01-05  0.013898  0.024019  0.003111 -0.002722  0.004028  0.002535   \n",
       "2010-01-06  0.007957  0.005706  0.000545  0.000409  0.001357  0.004635   \n",
       "2010-01-07  0.007772  0.007498  0.003993 -0.002484 -0.000597 -0.004650   \n",
       "2010-01-08 -0.003189  0.000835  0.002878  0.003027  0.001356  0.010862   \n",
       "...              ...       ...       ...       ...       ...       ...   \n",
       "2011-02-16  0.008599  0.013400  0.006238  0.001925  0.007952  0.005717   \n",
       "2011-02-17  0.009310  0.015977  0.003071 -0.001186  0.000345  0.002620   \n",
       "2011-02-18  0.000191 -0.001653  0.001923  0.002872 -0.000723  0.000568   \n",
       "2011-02-21 -0.013069 -0.013706 -0.020742 -0.014239 -0.011275  0.001358   \n",
       "2011-02-22 -0.007246 -0.019442  0.000000 -0.000473 -0.002997 -0.017920   \n",
       "\n",
       "             BOVESPA        EU        EM  \n",
       "date                                      \n",
       "2010-01-04  0.000000  0.016778  0.008399  \n",
       "2010-01-05  0.002780  0.001316  0.008067  \n",
       "2010-01-06  0.006938  0.000586  0.005330  \n",
       "2010-01-07 -0.003938 -0.000360 -0.006375  \n",
       "2010-01-08 -0.002672  0.003554  0.001229  \n",
       "...              ...       ...       ...  \n",
       "2011-02-16  0.018371  0.006975  0.003039  \n",
       "2011-02-17  0.001686 -0.000581  0.001039  \n",
       "2011-02-18  0.005628  0.000572  0.006938  \n",
       "2011-02-21 -0.011942 -0.012615 -0.000958  \n",
       "2011-02-22 -0.012252 -0.005465 -0.014297  \n",
       "\n",
       "[286 rows x 9 columns]"
      ]
     },
     "execution_count": 28,
     "metadata": {},
     "output_type": "execute_result"
    }
   ],
   "source": [
    "#Select all data after 2010-01-04(including)\n",
    "df[\"2010-01-04\":]"
   ]
  },
  {
   "cell_type": "code",
   "execution_count": 29,
   "id": "42edc1f7-0d47-4a2e-ad6b-402081524f11",
   "metadata": {},
   "outputs": [
    {
     "data": {
      "text/html": [
       "<div>\n",
       "<style scoped>\n",
       "    .dataframe tbody tr th:only-of-type {\n",
       "        vertical-align: middle;\n",
       "    }\n",
       "\n",
       "    .dataframe tbody tr th {\n",
       "        vertical-align: top;\n",
       "    }\n",
       "\n",
       "    .dataframe thead th {\n",
       "        text-align: right;\n",
       "    }\n",
       "</style>\n",
       "<table border=\"1\" class=\"dataframe\">\n",
       "  <thead>\n",
       "    <tr style=\"text-align: right;\">\n",
       "      <th></th>\n",
       "      <th>ISE</th>\n",
       "      <th>ISE.1</th>\n",
       "      <th>SP</th>\n",
       "      <th>DAX</th>\n",
       "      <th>FTSE</th>\n",
       "      <th>NIKKEI</th>\n",
       "      <th>BOVESPA</th>\n",
       "      <th>EU</th>\n",
       "      <th>EM</th>\n",
       "    </tr>\n",
       "    <tr>\n",
       "      <th>date</th>\n",
       "      <th></th>\n",
       "      <th></th>\n",
       "      <th></th>\n",
       "      <th></th>\n",
       "      <th></th>\n",
       "      <th></th>\n",
       "      <th></th>\n",
       "      <th></th>\n",
       "      <th></th>\n",
       "    </tr>\n",
       "  </thead>\n",
       "  <tbody>\n",
       "    <tr>\n",
       "      <th>2010-01-04</th>\n",
       "      <td>0.010229</td>\n",
       "      <td>0.014478</td>\n",
       "      <td>0.015916</td>\n",
       "      <td>0.000000</td>\n",
       "      <td>0.016018</td>\n",
       "      <td>0.000000</td>\n",
       "      <td>0.000000</td>\n",
       "      <td>0.016778</td>\n",
       "      <td>0.008399</td>\n",
       "    </tr>\n",
       "    <tr>\n",
       "      <th>2010-01-05</th>\n",
       "      <td>0.013898</td>\n",
       "      <td>0.024019</td>\n",
       "      <td>0.003111</td>\n",
       "      <td>-0.002722</td>\n",
       "      <td>0.004028</td>\n",
       "      <td>0.002535</td>\n",
       "      <td>0.002780</td>\n",
       "      <td>0.001316</td>\n",
       "      <td>0.008067</td>\n",
       "    </tr>\n",
       "    <tr>\n",
       "      <th>2010-01-06</th>\n",
       "      <td>0.007957</td>\n",
       "      <td>0.005706</td>\n",
       "      <td>0.000545</td>\n",
       "      <td>0.000409</td>\n",
       "      <td>0.001357</td>\n",
       "      <td>0.004635</td>\n",
       "      <td>0.006938</td>\n",
       "      <td>0.000586</td>\n",
       "      <td>0.005330</td>\n",
       "    </tr>\n",
       "    <tr>\n",
       "      <th>2010-01-07</th>\n",
       "      <td>0.007772</td>\n",
       "      <td>0.007498</td>\n",
       "      <td>0.003993</td>\n",
       "      <td>-0.002484</td>\n",
       "      <td>-0.000597</td>\n",
       "      <td>-0.004650</td>\n",
       "      <td>-0.003938</td>\n",
       "      <td>-0.000360</td>\n",
       "      <td>-0.006375</td>\n",
       "    </tr>\n",
       "    <tr>\n",
       "      <th>2010-01-08</th>\n",
       "      <td>-0.003189</td>\n",
       "      <td>0.000835</td>\n",
       "      <td>0.002878</td>\n",
       "      <td>0.003027</td>\n",
       "      <td>0.001356</td>\n",
       "      <td>0.010862</td>\n",
       "      <td>-0.002672</td>\n",
       "      <td>0.003554</td>\n",
       "      <td>0.001229</td>\n",
       "    </tr>\n",
       "    <tr>\n",
       "      <th>...</th>\n",
       "      <td>...</td>\n",
       "      <td>...</td>\n",
       "      <td>...</td>\n",
       "      <td>...</td>\n",
       "      <td>...</td>\n",
       "      <td>...</td>\n",
       "      <td>...</td>\n",
       "      <td>...</td>\n",
       "      <td>...</td>\n",
       "    </tr>\n",
       "    <tr>\n",
       "      <th>2010-06-24</th>\n",
       "      <td>0.000166</td>\n",
       "      <td>-0.008024</td>\n",
       "      <td>-0.016946</td>\n",
       "      <td>-0.014455</td>\n",
       "      <td>-0.015236</td>\n",
       "      <td>0.000467</td>\n",
       "      <td>-0.018948</td>\n",
       "      <td>-0.017801</td>\n",
       "      <td>-0.006717</td>\n",
       "    </tr>\n",
       "    <tr>\n",
       "      <th>2010-06-25</th>\n",
       "      <td>-0.000920</td>\n",
       "      <td>-0.003591</td>\n",
       "      <td>0.002855</td>\n",
       "      <td>-0.007366</td>\n",
       "      <td>-0.010585</td>\n",
       "      <td>-0.019411</td>\n",
       "      <td>0.013778</td>\n",
       "      <td>-0.007954</td>\n",
       "      <td>-0.002311</td>\n",
       "    </tr>\n",
       "    <tr>\n",
       "      <th>2010-06-28</th>\n",
       "      <td>0.010132</td>\n",
       "      <td>0.016951</td>\n",
       "      <td>-0.002036</td>\n",
       "      <td>0.014168</td>\n",
       "      <td>0.004981</td>\n",
       "      <td>-0.004481</td>\n",
       "      <td>-0.009283</td>\n",
       "      <td>0.009125</td>\n",
       "      <td>0.000540</td>\n",
       "    </tr>\n",
       "    <tr>\n",
       "      <th>2010-06-29</th>\n",
       "      <td>-0.021816</td>\n",
       "      <td>-0.028443</td>\n",
       "      <td>-0.031508</td>\n",
       "      <td>-0.033893</td>\n",
       "      <td>-0.031547</td>\n",
       "      <td>-0.012798</td>\n",
       "      <td>-0.035613</td>\n",
       "      <td>-0.034903</td>\n",
       "      <td>-0.021033</td>\n",
       "    </tr>\n",
       "    <tr>\n",
       "      <th>2010-06-30</th>\n",
       "      <td>-0.006830</td>\n",
       "      <td>-0.006195</td>\n",
       "      <td>-0.010164</td>\n",
       "      <td>0.002264</td>\n",
       "      <td>0.000549</td>\n",
       "      <td>-0.019842</td>\n",
       "      <td>-0.016955</td>\n",
       "      <td>0.002202</td>\n",
       "      <td>-0.006962</td>\n",
       "    </tr>\n",
       "  </tbody>\n",
       "</table>\n",
       "<p>126 rows × 9 columns</p>\n",
       "</div>"
      ],
      "text/plain": [
       "                 ISE     ISE.1        SP       DAX      FTSE    NIKKEI  \\\n",
       "date                                                                     \n",
       "2010-01-04  0.010229  0.014478  0.015916  0.000000  0.016018  0.000000   \n",
       "2010-01-05  0.013898  0.024019  0.003111 -0.002722  0.004028  0.002535   \n",
       "2010-01-06  0.007957  0.005706  0.000545  0.000409  0.001357  0.004635   \n",
       "2010-01-07  0.007772  0.007498  0.003993 -0.002484 -0.000597 -0.004650   \n",
       "2010-01-08 -0.003189  0.000835  0.002878  0.003027  0.001356  0.010862   \n",
       "...              ...       ...       ...       ...       ...       ...   \n",
       "2010-06-24  0.000166 -0.008024 -0.016946 -0.014455 -0.015236  0.000467   \n",
       "2010-06-25 -0.000920 -0.003591  0.002855 -0.007366 -0.010585 -0.019411   \n",
       "2010-06-28  0.010132  0.016951 -0.002036  0.014168  0.004981 -0.004481   \n",
       "2010-06-29 -0.021816 -0.028443 -0.031508 -0.033893 -0.031547 -0.012798   \n",
       "2010-06-30 -0.006830 -0.006195 -0.010164  0.002264  0.000549 -0.019842   \n",
       "\n",
       "             BOVESPA        EU        EM  \n",
       "date                                      \n",
       "2010-01-04  0.000000  0.016778  0.008399  \n",
       "2010-01-05  0.002780  0.001316  0.008067  \n",
       "2010-01-06  0.006938  0.000586  0.005330  \n",
       "2010-01-07 -0.003938 -0.000360 -0.006375  \n",
       "2010-01-08 -0.002672  0.003554  0.001229  \n",
       "...              ...       ...       ...  \n",
       "2010-06-24 -0.018948 -0.017801 -0.006717  \n",
       "2010-06-25  0.013778 -0.007954 -0.002311  \n",
       "2010-06-28 -0.009283  0.009125  0.000540  \n",
       "2010-06-29 -0.035613 -0.034903 -0.021033  \n",
       "2010-06-30 -0.016955  0.002202 -0.006962  \n",
       "\n",
       "[126 rows x 9 columns]"
      ]
     },
     "execution_count": 29,
     "metadata": {},
     "output_type": "execute_result"
    }
   ],
   "source": [
    "#Select data between 2010-01 and 2010-06 (both including)\n",
    "df[\"2010-01\": \"2010-06\"]"
   ]
  },
  {
   "cell_type": "code",
   "execution_count": 30,
   "id": "d8f9bf69-d62b-46f4-8ea6-208a715a4ccc",
   "metadata": {},
   "outputs": [],
   "source": [
    "#Sequences and Offsets of Dates\n",
    "#In addition to the semantic information and intelligent indexing and slicing, pandas also has tools to create date sequences and even manipulate date sequences."
   ]
  },
  {
   "cell_type": "code",
   "execution_count": 32,
   "id": "5c1a6735-ac04-4609-b620-9c8be40160c6",
   "metadata": {},
   "outputs": [
    {
     "data": {
      "text/plain": [
       "['2018-01-20', '2018-01-21', '2018-01-22', '2018-01-23']"
      ]
     },
     "execution_count": 32,
     "metadata": {},
     "output_type": "execute_result"
    }
   ],
   "source": [
    "#Specifying start and end dates with frequency\n",
    "pd.date_range(start=\"2018-01-20\",end=\"2018-01-23\",freq=\"D\").astype(str).tolist()"
   ]
  },
  {
   "cell_type": "code",
   "execution_count": 33,
   "id": "92303da7-d6f2-4d95-b190-4a2ef706a237",
   "metadata": {},
   "outputs": [
    {
     "data": {
      "text/plain": [
       "['2018-01-20', '2018-01-21', '2018-01-22', '2018-01-23']"
      ]
     },
     "execution_count": 33,
     "metadata": {},
     "output_type": "execute_result"
    }
   ],
   "source": [
    "#Specifying start and number of periods to generate in the given frequency\n",
    "pd.date_range(start=\"2018-01-20\",periods=4,freq=\"D\").astype(str).tolist()"
   ]
  },
  {
   "cell_type": "code",
   "execution_count": 34,
   "id": "88c8306d-ed19-46f9-88b9-ca2fe274f102",
   "metadata": {},
   "outputs": [
    {
     "data": {
      "text/plain": [
       "['2018-01-20', '2018-01-22', '2018-01-24', '2018-01-26']"
      ]
     },
     "execution_count": 34,
     "metadata": {},
     "output_type": "execute_result"
    }
   ],
   "source": [
    "#Specifying a date sequence with every 2 days\n",
    "pd.date_range(start=\"2018-01-20\",periods=4,freq=\"2D\").astype(str).tolist()"
   ]
  },
  {
   "cell_type": "code",
   "execution_count": 35,
   "id": "5b1cd062-0fe0-46ae-9f65-307a74f27981",
   "metadata": {},
   "outputs": [
    {
     "data": {
      "text/plain": [
       "['2018-01-31', '2018-02-28', '2018-03-31', '2018-04-30']"
      ]
     },
     "execution_count": 35,
     "metadata": {},
     "output_type": "execute_result"
    }
   ],
   "source": [
    "#Generating a date sequence every month. By default it starts with Month end\n",
    "pd.date_range(start=\"2018-01-20\",periods=4,freq=\"M\").astype(str).tolist()"
   ]
  },
  {
   "cell_type": "code",
   "execution_count": 36,
   "id": "d59322b8-cdcd-4329-9a29-1df50bc13c1e",
   "metadata": {},
   "outputs": [
    {
     "data": {
      "text/plain": [
       "['2018-02-01', '2018-03-01', '2018-04-01', '2018-05-01']"
      ]
     },
     "execution_count": 36,
     "metadata": {},
     "output_type": "execute_result"
    }
   ],
   "source": [
    "#Generating a date sequence every month, but month start\n",
    "pd.date_range(start=\"2018-01-20\",periods=4, freq=\"MS\").astype(str).tolist()"
   ]
  },
  {
   "cell_type": "code",
   "execution_count": 41,
   "id": "62b6c967-01f7-4d2a-a64a-f02b20eba97c",
   "metadata": {},
   "outputs": [
    {
     "data": {
      "text/plain": [
       "['2018-01-24', '2018-01-25', '2018-01-26', '2018-01-27']"
      ]
     },
     "execution_count": 41,
     "metadata": {},
     "output_type": "execute_result"
    }
   ],
   "source": [
    "# Add four days to the date range\n",
    "(pd.date_range(start=\"2018-01-20\", end=\"2018-01-23\", freq=\"D\") + pd.Timedelta(4, unit=\"D\")).astype(str).tolist()"
   ]
  },
  {
   "cell_type": "markdown",
   "id": "438c6c99-8b0c-48a5-bd64-bdba145cc533",
   "metadata": {},
   "source": [
    "Resampling, Shifting, Rolling Window, and Expanding Window Operations\n",
    "Resampling\n",
    "Resampling is a powerful operation which let's you aggregate and disaggregate along the temporal dimension."
   ]
  },
  {
   "cell_type": "code",
   "execution_count": null,
   "id": "ada4365f-0134-46c7-b3bd-04b1c00a642b",
   "metadata": {},
   "outputs": [],
   "source": []
  }
 ],
 "metadata": {
  "kernelspec": {
   "display_name": "Python 3 (ipykernel)",
   "language": "python",
   "name": "python3"
  },
  "language_info": {
   "codemirror_mode": {
    "name": "ipython",
    "version": 3
   },
   "file_extension": ".py",
   "mimetype": "text/x-python",
   "name": "python",
   "nbconvert_exporter": "python",
   "pygments_lexer": "ipython3",
   "version": "3.9.13"
  }
 },
 "nbformat": 4,
 "nbformat_minor": 5
}
